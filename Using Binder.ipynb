{
 "cells": [
  {
   "cell_type": "markdown",
   "metadata": {},
   "source": [
    "## Using `binder`\n",
    "\n",
    "So you have some Jupyter notebooks that you'd like other people (for example students) to be able to run and edit easily, without any software setup on their machines?\n",
    "\n",
    "You're looking for `mybinder.org`.  They will turn your github repository of notebooks into an interactive environment that anyone can access through their browser."
   ]
  },
  {
   "cell_type": "markdown",
   "metadata": {},
   "source": [
    "## How to:\n",
    "\n",
    "### 1. Put your code into a github repository\n",
    "\n",
    "From the directory containing your Jupyter notebooks:\n",
    "\n",
    "`git init\n",
    "git add .\n",
    "git commit -m \"I'm a message.\"\n",
    "git remote add origin <url_of_repo>\n",
    "git push -u origin master\n",
    "`\n",
    "\n",
    "### 2. Specify your dependencies in `requirements.txt`\n",
    "\n",
    "In the same directory make a file called `requirements.txt` that lists all your dependencies, for example it might look something like:\n",
    "\n",
    "`numpy\n",
    "matplotlib\n",
    "tensorflow\n",
    "keras\n",
    "`\n",
    "\n",
    "\n",
    "Push this file to github:\n",
    "\n",
    "`\n",
    "git add .\n",
    "git commit -m \"add requirements.txt\"\n",
    "git push\n",
    "`\n",
    "\n",
    "### 3. Enter a link to your github repo at mybinder.org\n",
    "\n",
    "Go to mybinder.org and enter the link to your github repository.  Hit launch and wait for it to build, it will open in a new tab once it is ready.\n",
    "\n",
    "### 4. Share the link\n",
    "\n",
    "You're done, just share the link to let others use your notebooks interactively."
   ]
  }
 ],
 "metadata": {
  "kernelspec": {
   "display_name": "Python 3",
   "language": "python",
   "name": "python3"
  },
  "language_info": {
   "codemirror_mode": {
    "name": "ipython",
    "version": 3
   },
   "file_extension": ".py",
   "mimetype": "text/x-python",
   "name": "python",
   "nbconvert_exporter": "python",
   "pygments_lexer": "ipython3",
   "version": "3.6.2"
  }
 },
 "nbformat": 4,
 "nbformat_minor": 2
}
