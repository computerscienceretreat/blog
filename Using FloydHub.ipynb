{
 "cells": [
  {
   "cell_type": "markdown",
   "metadata": {},
   "source": [
    "# FloydHub\n",
    "\n",
    "FloydHub a cloud GPU service you can use to run your code.  It is pretty easy to get started, follow these instructions:\n",
    "\n",
    "## Setup\n",
    "\n",
    "### Get a FloydHub account\n",
    "\n",
    "To sign up go here (no credit card required until you start running on GPUs): https://www.floydhub.com/signup\n",
    "\n",
    "### Install the command line interface\n",
    "\n",
    "Follow instructions here: https://docs.floydhub.com/guides/basics/install/\n",
    "\n",
    "Remember if you are using Anaconda it will install in the current environment!\n",
    "\n",
    "\n",
    "## Usage\n",
    "\n",
    "### Login to your account\n",
    "\n",
    "From the command line:\n",
    "\n",
    "`floyd login`\n",
    "\n",
    "### Create a new project\n",
    "\n",
    "Using the FloydHub web interface create a new project with some `<name>`.\n",
    "\n",
    "### Initialize you FloydHub project\n",
    "\n",
    "Assuming you have your code locally in a git repository go to the directory containing it and then run:\n",
    "\n",
    "`floyd init <fh_username>/<name>`\n",
    "\n",
    "\n",
    "### Running Code\n",
    "\n",
    "`floyd run (--gpu) --env tensorflow-1.3 \"python <script>\"`\n",
    "\n",
    "Note, many packages are installed by default but if you need more then add a `requirements.txt` file to your git repository, containing the names of missing packages for example:\n",
    "\n",
    "`\n",
    "pydataset\n",
    "seaborn\n",
    "`\n",
    "\n",
    "Optionally you can run the job on a GPU.  You can see the progress with the web interface and you will get an email when it has completed.\n",
    "\n",
    "\n",
    "### Stopping Code\n",
    "\n",
    "In the basic plan you can only run one job at a time.  To stop jobs either use the web interface or do:\n",
    "\n",
    "`floyd stop <job_name>`\n",
    "\n"
   ]
  }
 ],
 "metadata": {
  "kernelspec": {
   "display_name": "Python 3",
   "language": "python",
   "name": "python3"
  },
  "language_info": {
   "codemirror_mode": {
    "name": "ipython",
    "version": 3
   },
   "file_extension": ".py",
   "mimetype": "text/x-python",
   "name": "python",
   "nbconvert_exporter": "python",
   "pygments_lexer": "ipython3",
   "version": "3.6.2"
  }
 },
 "nbformat": 4,
 "nbformat_minor": 2
}
